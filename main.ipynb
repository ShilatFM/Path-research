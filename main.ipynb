{
 "cells": [
  {
   "cell_type": "code",
   "execution_count": 2,
   "metadata": {},
   "outputs": [
    {
     "name": "stdout",
     "output_type": "stream",
     "text": [
      "Populating the interactive namespace from numpy and matplotlib\n"
     ]
    },
    {
     "ename": "ModuleNotFoundError",
     "evalue": "No module named 'draw_func'",
     "output_type": "error",
     "traceback": [
      "\u001b[1;31m---------------------------------------------------------------------------\u001b[0m",
      "\u001b[1;31mModuleNotFoundError\u001b[0m                       Traceback (most recent call last)",
      "\u001b[1;32m<ipython-input-2-2e9ca2bb06c8>\u001b[0m in \u001b[0;36m<module>\u001b[1;34m\u001b[0m\n\u001b[0;32m      4\u001b[0m \u001b[1;33m\u001b[0m\u001b[0m\n\u001b[0;32m      5\u001b[0m \u001b[1;31m#from filter_me_func import filter_me\u001b[0m\u001b[1;33m\u001b[0m\u001b[1;33m\u001b[0m\u001b[1;33m\u001b[0m\u001b[0m\n\u001b[1;32m----> 6\u001b[1;33m \u001b[1;32mfrom\u001b[0m \u001b[0mdraw_func\u001b[0m \u001b[1;32mimport\u001b[0m \u001b[0mdraw\u001b[0m\u001b[1;33m\u001b[0m\u001b[1;33m\u001b[0m\u001b[0m\n\u001b[0m\u001b[0;32m      7\u001b[0m \u001b[1;33m\u001b[0m\u001b[0m\n\u001b[0;32m      8\u001b[0m \u001b[0mCONST_SQUERS\u001b[0m \u001b[1;33m=\u001b[0m \u001b[1;36m10\u001b[0m\u001b[1;33m\u001b[0m\u001b[1;33m\u001b[0m\u001b[0m\n",
      "\u001b[1;31mModuleNotFoundError\u001b[0m: No module named 'draw_func'"
     ]
    }
   ],
   "source": [
    "%matplotlib inline\n",
    "%pylab inline\n",
    "import pandas as pd\n",
    "\n",
    "#from filter_me_func import filter_me\n",
    "from draw_func import draw\n",
    "\n",
    "CONST_SQUERS = 10\n",
    "# NOT_FILTERED = 1\n",
    "# FILTERED = 0\n",
    "\n",
    "p_path = input(\"enter picture path: \")\n",
    "im = imread(p_path)"
   ]
  },
  {
   "cell_type": "code",
   "execution_count": 29,
   "metadata": {},
   "outputs": [
    {
     "name": "stdout",
     "output_type": "stream",
     "text": [
      "enter data path: data/to_pickle.pk1.xz\n"
     ]
    }
   ],
   "source": [
    "df_path = input(\"enter data path: \")\n",
    "df = pd.read_pickle(df_path)"
   ]
  },
  {
   "cell_type": "code",
   "execution_count": 30,
   "metadata": {},
   "outputs": [],
   "source": [
    "filters = {'time': None , 'date': None, 'area': None, 'area_squers': None}"
   ]
  },
  {
   "cell_type": "code",
   "execution_count": 27,
   "metadata": {},
   "outputs": [
    {
     "name": "stdout",
     "output_type": "stream",
     "text": [
      "enter command:/clear\n",
      "enter command:\n",
      "goodbye\n"
     ]
    }
   ],
   "source": [
    "mat = df\n",
    "command = input(\"enter command:\")\n",
    "while(command):\n",
    "    if command == '/draw':\n",
    "        darw(mat)\n",
    "        \n",
    "    elif command == '/draw_one_by_one':\n",
    "        pass\n",
    "    \n",
    "            \n",
    "    elif command == '/time':\n",
    "        start = input(\"enter start time in the following format: hh:mm:ss\\n\")\n",
    "        start_time = pd.to_datetime(start)\n",
    "        end = input(\"enter end time in the following format: hh:mm:ss\\n\")\n",
    "        end_time = pd.to_datetime(end)\n",
    "        filters['time'] = (start_time, end_time)\n",
    "        mat = to_time_filter(df, filters['time'][0], filters['time'][1], filters['time'][2])\n",
    "\n",
    "    elif command == '/date':\n",
    "        date = input(\"enter date in the following format: yyyy-mm-dd\")\n",
    "        my_date = pd.to_datetime(date)\n",
    "        start = input(\"enter start time in the following format: hh:mm:ss\\n\")\n",
    "        start_time = pd.to_datetime(start)\n",
    "        end = input(\"enter end time in the following format: hh:mm:ss\\n\")\n",
    "        end_time = pd.to_datetime(end)\n",
    "        filters['date'] = (my_date, start_time, end_time)\n",
    "        mat = to_date_filter(df, filters['date'][0], filters['date'][1], filters['date'][2])\n",
    "\n",
    "    elif command == '/area':\n",
    "        x1 = input(\"enter x value for top left point\")\n",
    "        y1 = input(\"enter y value for top left point\")\n",
    "        x2 = input(\"enter x value for bottom right point\")\n",
    "        y2 = input(\"enter y value for bottom right point\")\n",
    "        filters['area'] = ((x1, y1), (x2, y2))\n",
    "        mat = area(df, filters['area'][0], filters['area'][1])\n",
    "\n",
    "    \n",
    "    elif command == '/area_squers':\n",
    "        print(\"to stop adding squers press enter\")\n",
    "        squers = []\n",
    "        x = input(f\"enter x value and than y value for the first squere. values are between 0 and {CONST_SQUERS}\\n\")\n",
    "        while(x):\n",
    "            y = input(\"\")\n",
    "            squers.append((x,y))\n",
    "            x = input(\"enter next squere\\n\")\n",
    "            filters['area_squers'] = (squers)\n",
    "        mat = filter_Square(df, filters['area_squers'][0])\n",
    "\n",
    "    \n",
    "    elif command == '/clear':\n",
    "        mat = df\n",
    "        filters = {'time': None , 'date': None, 'area': None, 'areas_squers': None}\n",
    "        \n",
    "    else:\n",
    "        print(\"imvalid command\")\n",
    "        \n",
    "    command = input(\"enter command:\")\n",
    "print(\"goodbye\")"
   ]
  }
 ],
 "metadata": {
  "kernelspec": {
   "display_name": "Python 3",
   "language": "python",
   "name": "python3"
  },
  "language_info": {
   "codemirror_mode": {
    "name": "ipython",
    "version": 3
   },
   "file_extension": ".py",
   "mimetype": "text/x-python",
   "name": "python",
   "nbconvert_exporter": "python",
   "pygments_lexer": "ipython3",
   "version": "3.7.0"
  }
 },
 "nbformat": 4,
 "nbformat_minor": 2
}
