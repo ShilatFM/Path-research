{
 "cells": [
  {
   "cell_type": "code",
   "execution_count": 2,
   "metadata": {},
   "outputs": [
    {
     "name": "stdout",
     "output_type": "stream",
     "text": [
      "Populating the interactive namespace from numpy and matplotlib\n",
      "enter picture path: data/paths0.png\n"
     ]
    }
   ],
   "source": [
    "%matplotlib inline\n",
    "%pylab inline\n",
    "import pandas as pd\n",
    "\n",
    "CONST_SQUERS = 10\n",
    "\n",
    "p_path = input(\"enter picture path: \")\n",
    "im = imread(p_path)"
   ]
  },
  {
   "cell_type": "code",
   "execution_count": 29,
   "metadata": {},
   "outputs": [
    {
     "name": "stdout",
     "output_type": "stream",
     "text": [
      "enter data path: data/to_pickle.pk1.xz\n"
     ]
    }
   ],
   "source": [
    "df_path = input(\"enter data path: \")\n",
    "df = pd.read_pickle(df_path)"
   ]
  },
  {
   "cell_type": "code",
   "execution_count": 30,
   "metadata": {},
   "outputs": [],
   "source": [
    "filters = {'time': None , 'date': None, 'area': None, 'area_squers': None}"
   ]
  },
  {
   "cell_type": "code",
   "execution_count": 27,
   "metadata": {},
   "outputs": [
    {
     "name": "stdout",
     "output_type": "stream",
     "text": [
      "enter command:/clear\n",
      "enter command:\n",
      "goodbye\n"
     ]
    }
   ],
   "source": [
    "command = input(\"enter command:\")\n",
    "while(command):\n",
    "    if command == '/draw':\n",
    "        mat = filter_me(df, filters)\n",
    "        darw(mat)\n",
    "        \n",
    "    elif command == '/draw_one_by_one':\n",
    "        pass\n",
    "    \n",
    "    elif command == '/date':\n",
    "        date = input(\"enter date in the following format: yyyy-mm-dd\")\n",
    "        my_date = pd.to_datetime(date)\n",
    "        start = input(\"enter start time in the following format: hh:mm:ss\\n\")\n",
    "        start_time = pd.to_datetime(start)\n",
    "        end = input(\"enter end time in the following format: hh:mm:ss\\n\")\n",
    "        end_time = pd.to_datetime(end)\n",
    "        filters['date'] = (my_date, start_time, end_time)\n",
    "        \n",
    "    elif command == '/time':\n",
    "        start = input(\"enter start time in the following format: hh:mm:ss\\n\")\n",
    "        start_time = pd.to_datetime(start)\n",
    "        end = input(\"enter end time in the following format: hh:mm:ss\\n\")\n",
    "        end_time = pd.to_datetime(end)\n",
    "        filters['time'] = (start_time, end_time)\n",
    "    \n",
    "    elif command == '/area':\n",
    "        x1 = input(\"enter x value for top left point\")\n",
    "        y1 = input(\"enter y value for top left point\")\n",
    "        x2 = input(\"enter x value for bottom right point\")\n",
    "        y2 = input(\"enter y value for bottom right point\")\n",
    "        filters['area'] = ((x1, y1), (x2, y2))\n",
    "    \n",
    "    elif command == '/area_squers':\n",
    "        print(\"to stop adding squers press enter\")\n",
    "        squers = []\n",
    "        x = input(f\"enter x value and than y value for the first squere. values are between 0 and {CONST_SQUERS}\\n\")\n",
    "        while(x):\n",
    "            y = input(\"\")\n",
    "            squers.append((x,y))\n",
    "            x = input(\"enter next squere\\n\")\n",
    "        filters['area_squers'] = tuple(squers)\n",
    "    \n",
    "    elif command == '/clear':\n",
    "        filters = {'time': None , 'date': None, 'area': None, 'areas_squers': None}\n",
    "        \n",
    "    else:\n",
    "        print(\"imvalid command\")\n",
    "        \n",
    "    command = input(\"enter command:\")\n",
    "print(\"goodbye\")"
   ]
  }
 ],
 "metadata": {
  "kernelspec": {
   "display_name": "Python 3",
   "language": "python",
   "name": "python3"
  },
  "language_info": {
   "codemirror_mode": {
    "name": "ipython",
    "version": 3
   },
   "file_extension": ".py",
   "mimetype": "text/x-python",
   "name": "python",
   "nbconvert_exporter": "python",
   "pygments_lexer": "ipython3",
   "version": "3.7.1rc1"
  }
 },
 "nbformat": 4,
 "nbformat_minor": 2
}
