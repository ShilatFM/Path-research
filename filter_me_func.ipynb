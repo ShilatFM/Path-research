{
 "cells": [
  {
   "cell_type": "code",
   "execution_count": null,
   "metadata": {},
   "outputs": [],
   "source": [
    "def filter_me(df, filters):\n",
    "    if not filters['time'][0]:\n",
    "        df = to_time_filter(df, filters['time'][1], filters['time'][2], filters['time'][3])\n",
    "        filters['time'][0] = 1\n",
    "        \n",
    "    if not filters['date'][0]:\n",
    "        df = to_date_filter(df, filters['date'][1], filters['date'][2], filters['date'][3])\n",
    "        filters['date'][0] = 1\n",
    "        \n",
    "    if not filters['area'][0]:\n",
    "        df = area(df, filters['area'][1], filters['area'][2])\n",
    "        filters['area'][0] = 1\n",
    "        \n",
    "    if not filters['area_squers'][0]:\n",
    "        df = filter_Square(df, filters['area_squers'][1])\n",
    "        filters['area_squers'][0] = 1\n"
   ]
  }
 ],
 "metadata": {
  "kernelspec": {
   "display_name": "Python 3",
   "language": "python",
   "name": "python3"
  },
  "language_info": {
   "codemirror_mode": {
    "name": "ipython",
    "version": 3
   },
   "file_extension": ".py",
   "mimetype": "text/x-python",
   "name": "python",
   "nbconvert_exporter": "python",
   "pygments_lexer": "ipython3",
   "version": "3.7.1rc1"
  }
 },
 "nbformat": 4,
 "nbformat_minor": 2
}
