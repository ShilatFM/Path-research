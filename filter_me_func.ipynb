{
 "cells": [
  {
   "cell_type": "code",
   "execution_count": null,
   "metadata": {},
   "outputs": [],
   "source": [
    "def filter_me(df, filters):\n",
    "    if filters['time']:\n",
    "        df = time(df, filters['time'][0], filters['time'][1], filters['time'][2])\n",
    "        filters['time'] = None\n",
    "    if filters['date']:\n",
    "        df = to_date_filter(df, filters['time'][0], filters['time'][1], filters['time'][2])\n",
    "        filters['date'] = None\n",
    "    if filters['area']:\n",
    "    if filters['area_squers']:\n"
   ]
  }
 ],
 "metadata": {
  "kernelspec": {
   "display_name": "Python 3",
   "language": "python",
   "name": "python3"
  },
  "language_info": {
   "codemirror_mode": {
    "name": "ipython",
    "version": 3
   },
   "file_extension": ".py",
   "mimetype": "text/x-python",
   "name": "python",
   "nbconvert_exporter": "python",
   "pygments_lexer": "ipython3",
   "version": "3.7.1rc1"
  }
 },
 "nbformat": 4,
 "nbformat_minor": 2
}
