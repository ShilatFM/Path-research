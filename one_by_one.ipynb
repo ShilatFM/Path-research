{
 "cells": [
  {
   "cell_type": "code",
   "execution_count": 1,
   "metadata": {},
   "outputs": [
    {
     "name": "stdout",
     "output_type": "stream",
     "text": [
      "Populating the interactive namespace from numpy and matplotlib\n"
     ]
    }
   ],
   "source": [
    "%pylab inline\n",
    "import pandas as pd"
   ]
  },
  {
   "cell_type": "code",
   "execution_count": 2,
   "metadata": {},
   "outputs": [],
   "source": [
    "df = pd.read_pickle(\"data/to_pickle.pk1.xz\")"
   ]
  },
  {
   "cell_type": "code",
   "execution_count": null,
   "metadata": {},
   "outputs": [],
   "source": [
    "def one_by_one(table):\n",
    "    table = table.groupby(['filename', 'obj']).size()\n",
    "    df_by_obj = df.set_index(['filename', 'obj']).sort_index()\n",
    "    im = imread('paths0.png')\n",
    "    for t in table.index:\n",
    "        s_o = df_by_obj.loc[t]\n",
    "        imshow(im)\n",
    "        plot(s_o.x, s_o.y, label = t[1])\n",
    "        legend(loc=9, bbox_to_anchor=(1.1, 1))\n",
    "        show()\n",
    "        next = input(\"next?: \")\n",
    "        if next != 'y':\n",
    "            break\n",
    "    legend(loc=9, bbox_to_anchor=(1.1, 1))\n"
   ]
  },
  {
   "cell_type": "code",
   "execution_count": null,
   "metadata": {},
   "outputs": [],
   "source": [
    "t = df.head(10)\n",
    "one_by_one(t)"
   ]
  },
  {
   "cell_type": "code",
   "execution_count": null,
   "metadata": {},
   "outputs": [],
   "source": []
  },
  {
   "cell_type": "code",
   "execution_count": null,
   "metadata": {},
   "outputs": [],
   "source": []
  }
 ],
 "metadata": {
  "kernelspec": {
   "display_name": "Python 3",
   "language": "python",
   "name": "python3"
  },
  "language_info": {
   "codemirror_mode": {
    "name": "ipython",
    "version": 3
   },
   "file_extension": ".py",
   "mimetype": "text/x-python",
   "name": "python",
   "nbconvert_exporter": "python",
   "pygments_lexer": "ipython3",
   "version": "3.7.0"
  }
 },
 "nbformat": 4,
 "nbformat_minor": 2
}
